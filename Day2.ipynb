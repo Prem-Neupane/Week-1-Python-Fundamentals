{
 "cells": [
  {
   "cell_type": "code",
   "execution_count": 1,
   "metadata": {},
   "outputs": [
    {
     "name": "stdout",
     "output_type": "stream",
     "text": [
      "this will be printed..\n"
     ]
    }
   ],
   "source": [
    "print(\"this will be printed..\")"
   ]
  },
  {
   "cell_type": "code",
   "execution_count": 2,
   "metadata": {},
   "outputs": [
    {
     "name": "stdout",
     "output_type": "stream",
     "text": [
      "x is 1\n"
     ]
    }
   ],
   "source": [
    "x = 1\n",
    "if x == 1:    \n",
    "    print(\"x is 1\") \n",
    "#this is know as indenation.\n",
    "#which means we must have four spaces before the code so that it remains under the given condition."
   ]
  },
  {
   "cell_type": "code",
   "execution_count": 4,
   "metadata": {},
   "outputs": [
    {
     "name": "stdout",
     "output_type": "stream",
     "text": [
      "6\n",
      "7.0\n",
      "7.0\n"
     ]
    }
   ],
   "source": [
    "#python has different variable which can be used in different condition.\n",
    "var_int = 6\n",
    "print(var_int)\n",
    "# In default the variable declared in INT type.\n",
    "my_float = 7.0     #here we have decimal value so this is FLOAT type.\n",
    "print(my_float)\n",
    "my_float = float(7) #also we can use some function to convert into different types.\n",
    "print(my_float)"
   ]
  },
  {
   "cell_type": "code",
   "execution_count": 5,
   "metadata": {},
   "outputs": [
    {
     "name": "stdout",
     "output_type": "stream",
     "text": [
      "hello world\n"
     ]
    }
   ],
   "source": [
    "my_string = \"hello world\" # for storing string variable we use the inverted commas.\n",
    "print(my_string)"
   ]
  },
  {
   "cell_type": "code",
   "execution_count": null,
   "metadata": {},
   "outputs": [],
   "source": [
    "one = 1\n",
    "two = 2\n",
    "three = one + two\n",
    "print(three)\n",
    "\n",
    "hello = \"hello\"\n",
    "world = \"world\"\n",
    "helloworld = hello + \" \" + world # this is known as concatenation; joining of strings.\n",
    "print(helloworld)"
   ]
  },
  {
   "cell_type": "code",
   "execution_count": 6,
   "metadata": {},
   "outputs": [
    {
     "name": "stdout",
     "output_type": "stream",
     "text": [
      "2 3 4\n"
     ]
    }
   ],
   "source": [
    "a, b, c = 2, 3, 4\n",
    "print(a, b, c)"
   ]
  },
  {
   "cell_type": "code",
   "execution_count": 7,
   "metadata": {},
   "outputs": [
    {
     "name": "stdout",
     "output_type": "stream",
     "text": [
      "[1, 2, 3, 4, 5, 6]\n"
     ]
    }
   ],
   "source": [
    "#List: a container where we can store as many as varibale, More or less an array.\n",
    "this_is_list = [1,2,3,4,5,6]\n",
    "print(this_is_list)"
   ]
  },
  {
   "cell_type": "code",
   "execution_count": null,
   "metadata": {},
   "outputs": [],
   "source": []
  }
 ],
 "metadata": {
  "kernelspec": {
   "display_name": "Python 3",
   "language": "python",
   "name": "python3"
  },
  "language_info": {
   "codemirror_mode": {
    "name": "ipython",
    "version": 3
   },
   "file_extension": ".py",
   "mimetype": "text/x-python",
   "name": "python",
   "nbconvert_exporter": "python",
   "pygments_lexer": "ipython3",
   "version": "3.7.5"
  }
 },
 "nbformat": 4,
 "nbformat_minor": 4
}
